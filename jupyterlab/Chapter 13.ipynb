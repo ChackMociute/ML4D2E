{
 "cells": [
  {
   "cell_type": "markdown",
   "id": "cff8b8e7-44e6-4ef8-b494-dce8076c77fe",
   "metadata": {},
   "source": [
    "# Chapter 13\n",
    "## Linear models"
   ]
  },
  {
   "cell_type": "code",
   "execution_count": 1,
   "id": "f9c9567c-7b5a-48bd-9cd2-7de75494f483",
   "metadata": {},
   "outputs": [],
   "source": [
    "import numpy as np\n",
    "import pandas as pd\n",
    "import matplotlib.pyplot as plt\n",
    "import warnings\n",
    "\n",
    "from sklearn.datasets import fetch_california_housing\n",
    "from sklearn.model_selection import train_test_split\n",
    "from sklearn.preprocessing import scale, OneHotEncoder, LabelEncoder, PolynomialFeatures\n",
    "from sklearn.linear_model import LinearRegression, LogisticRegression, RidgeCV, LassoCV, SGDRegressor\n",
    "from sklearn.metrics import accuracy_score\n",
    "from sklearn.feature_selection import RFECV"
   ]
  },
  {
   "cell_type": "markdown",
   "id": "39d8c8be-9118-4dd7-93ff-3e17839748fb",
   "metadata": {},
   "source": [
    "## Linear regression"
   ]
  },
  {
   "cell_type": "code",
   "execution_count": 2,
   "id": "95bd3645-e56f-450e-8a94-47cb8d2ebe4f",
   "metadata": {},
   "outputs": [
    {
     "data": {
      "text/html": [
       "<div>\n",
       "<style scoped>\n",
       "    .dataframe tbody tr th:only-of-type {\n",
       "        vertical-align: middle;\n",
       "    }\n",
       "\n",
       "    .dataframe tbody tr th {\n",
       "        vertical-align: top;\n",
       "    }\n",
       "\n",
       "    .dataframe thead th {\n",
       "        text-align: right;\n",
       "    }\n",
       "</style>\n",
       "<table border=\"1\" class=\"dataframe\">\n",
       "  <thead>\n",
       "    <tr style=\"text-align: right;\">\n",
       "      <th></th>\n",
       "      <th>MedInc</th>\n",
       "      <th>HouseAge</th>\n",
       "      <th>AveRooms</th>\n",
       "      <th>AveBedrms</th>\n",
       "      <th>Population</th>\n",
       "      <th>AveOccup</th>\n",
       "      <th>Latitude</th>\n",
       "      <th>Longitude</th>\n",
       "    </tr>\n",
       "  </thead>\n",
       "  <tbody>\n",
       "    <tr>\n",
       "      <th>0</th>\n",
       "      <td>2.344766</td>\n",
       "      <td>0.982143</td>\n",
       "      <td>0.628559</td>\n",
       "      <td>-0.153758</td>\n",
       "      <td>-0.974429</td>\n",
       "      <td>-0.049597</td>\n",
       "      <td>1.052548</td>\n",
       "      <td>-1.327835</td>\n",
       "    </tr>\n",
       "    <tr>\n",
       "      <th>1</th>\n",
       "      <td>2.332238</td>\n",
       "      <td>-0.607019</td>\n",
       "      <td>0.327041</td>\n",
       "      <td>-0.263336</td>\n",
       "      <td>0.861439</td>\n",
       "      <td>-0.092512</td>\n",
       "      <td>1.043185</td>\n",
       "      <td>-1.322844</td>\n",
       "    </tr>\n",
       "    <tr>\n",
       "      <th>2</th>\n",
       "      <td>1.782699</td>\n",
       "      <td>1.856182</td>\n",
       "      <td>1.155620</td>\n",
       "      <td>-0.049016</td>\n",
       "      <td>-0.820777</td>\n",
       "      <td>-0.025843</td>\n",
       "      <td>1.038503</td>\n",
       "      <td>-1.332827</td>\n",
       "    </tr>\n",
       "    <tr>\n",
       "      <th>3</th>\n",
       "      <td>0.932968</td>\n",
       "      <td>1.856182</td>\n",
       "      <td>0.156966</td>\n",
       "      <td>-0.049833</td>\n",
       "      <td>-0.766028</td>\n",
       "      <td>-0.050329</td>\n",
       "      <td>1.038503</td>\n",
       "      <td>-1.337818</td>\n",
       "    </tr>\n",
       "    <tr>\n",
       "      <th>4</th>\n",
       "      <td>-0.012881</td>\n",
       "      <td>1.856182</td>\n",
       "      <td>0.344711</td>\n",
       "      <td>-0.032906</td>\n",
       "      <td>-0.759847</td>\n",
       "      <td>-0.085616</td>\n",
       "      <td>1.038503</td>\n",
       "      <td>-1.337818</td>\n",
       "    </tr>\n",
       "    <tr>\n",
       "      <th>...</th>\n",
       "      <td>...</td>\n",
       "      <td>...</td>\n",
       "      <td>...</td>\n",
       "      <td>...</td>\n",
       "      <td>...</td>\n",
       "      <td>...</td>\n",
       "      <td>...</td>\n",
       "      <td>...</td>\n",
       "    </tr>\n",
       "    <tr>\n",
       "      <th>20635</th>\n",
       "      <td>-1.216128</td>\n",
       "      <td>-0.289187</td>\n",
       "      <td>-0.155023</td>\n",
       "      <td>0.077354</td>\n",
       "      <td>-0.512592</td>\n",
       "      <td>-0.049110</td>\n",
       "      <td>1.801647</td>\n",
       "      <td>-0.758826</td>\n",
       "    </tr>\n",
       "    <tr>\n",
       "      <th>20636</th>\n",
       "      <td>-0.691593</td>\n",
       "      <td>-0.845393</td>\n",
       "      <td>0.276881</td>\n",
       "      <td>0.462365</td>\n",
       "      <td>-0.944405</td>\n",
       "      <td>0.005021</td>\n",
       "      <td>1.806329</td>\n",
       "      <td>-0.818722</td>\n",
       "    </tr>\n",
       "    <tr>\n",
       "      <th>20637</th>\n",
       "      <td>-1.142593</td>\n",
       "      <td>-0.924851</td>\n",
       "      <td>-0.090318</td>\n",
       "      <td>0.049414</td>\n",
       "      <td>-0.369537</td>\n",
       "      <td>-0.071735</td>\n",
       "      <td>1.778237</td>\n",
       "      <td>-0.823713</td>\n",
       "    </tr>\n",
       "    <tr>\n",
       "      <th>20638</th>\n",
       "      <td>-1.054583</td>\n",
       "      <td>-0.845393</td>\n",
       "      <td>-0.040211</td>\n",
       "      <td>0.158778</td>\n",
       "      <td>-0.604429</td>\n",
       "      <td>-0.091225</td>\n",
       "      <td>1.778237</td>\n",
       "      <td>-0.873626</td>\n",
       "    </tr>\n",
       "    <tr>\n",
       "      <th>20639</th>\n",
       "      <td>-0.780129</td>\n",
       "      <td>-1.004309</td>\n",
       "      <td>-0.070443</td>\n",
       "      <td>0.138403</td>\n",
       "      <td>-0.033977</td>\n",
       "      <td>-0.043682</td>\n",
       "      <td>1.750146</td>\n",
       "      <td>-0.833696</td>\n",
       "    </tr>\n",
       "  </tbody>\n",
       "</table>\n",
       "<p>20640 rows × 8 columns</p>\n",
       "</div>"
      ],
      "text/plain": [
       "         MedInc  HouseAge  AveRooms  AveBedrms  Population  AveOccup  \\\n",
       "0      2.344766  0.982143  0.628559  -0.153758   -0.974429 -0.049597   \n",
       "1      2.332238 -0.607019  0.327041  -0.263336    0.861439 -0.092512   \n",
       "2      1.782699  1.856182  1.155620  -0.049016   -0.820777 -0.025843   \n",
       "3      0.932968  1.856182  0.156966  -0.049833   -0.766028 -0.050329   \n",
       "4     -0.012881  1.856182  0.344711  -0.032906   -0.759847 -0.085616   \n",
       "...         ...       ...       ...        ...         ...       ...   \n",
       "20635 -1.216128 -0.289187 -0.155023   0.077354   -0.512592 -0.049110   \n",
       "20636 -0.691593 -0.845393  0.276881   0.462365   -0.944405  0.005021   \n",
       "20637 -1.142593 -0.924851 -0.090318   0.049414   -0.369537 -0.071735   \n",
       "20638 -1.054583 -0.845393 -0.040211   0.158778   -0.604429 -0.091225   \n",
       "20639 -0.780129 -1.004309 -0.070443   0.138403   -0.033977 -0.043682   \n",
       "\n",
       "       Latitude  Longitude  \n",
       "0      1.052548  -1.327835  \n",
       "1      1.043185  -1.322844  \n",
       "2      1.038503  -1.332827  \n",
       "3      1.038503  -1.337818  \n",
       "4      1.038503  -1.337818  \n",
       "...         ...        ...  \n",
       "20635  1.801647  -0.758826  \n",
       "20636  1.806329  -0.818722  \n",
       "20637  1.778237  -0.823713  \n",
       "20638  1.778237  -0.873626  \n",
       "20639  1.750146  -0.833696  \n",
       "\n",
       "[20640 rows x 8 columns]"
      ]
     },
     "metadata": {},
     "output_type": "display_data"
    }
   ],
   "source": [
    "california = fetch_california_housing()\n",
    "california\n",
    "\n",
    "X = pd.DataFrame(scale(california.data), columns=california.feature_names)\n",
    "y = california.target\n",
    "\n",
    "display(X)\n",
    "X_train, X_test, y_train, y_test = train_test_split(X, y, shuffle=True, test_size=0.2, random_state=42)"
   ]
  },
  {
   "cell_type": "code",
   "execution_count": 3,
   "id": "2506384e-e5f9-417c-8ba6-f78aed23d6db",
   "metadata": {},
   "outputs": [
    {
     "name": "stdout",
     "output_type": "stream",
     "text": [
      "MedInc: 0.9\n",
      "HouseAge: 0.1\n",
      "AveRooms: -0.3\n",
      "AveBedrms: 0.4\n",
      "Population: -0.0\n",
      "AveOccup: -0.0\n",
      "Latitude: -0.9\n",
      "Longitude: -0.9\n",
      "\n",
      "train R2:\t0.613\n",
      "test R2:\t0.576\n"
     ]
    }
   ],
   "source": [
    "lm = LinearRegression()\n",
    "lm.fit(X_train, y_train)\n",
    "\n",
    "[print(feat+\": \"+str(round(coef, 1))) for feat, coef in zip(california.feature_names, lm.coef_)]\n",
    "print(f\"\\ntrain R2:\\t{lm.score(X_train, y_train):.3}\")\n",
    "print(f\"test R2:\\t{lm.score(X_test, y_test):.3}\")"
   ]
  },
  {
   "cell_type": "markdown",
   "id": "86d9f6db-8adf-406e-a5ae-85728af3c917",
   "metadata": {},
   "source": [
    "### Qualitative features"
   ]
  },
  {
   "cell_type": "code",
   "execution_count": 4,
   "id": "2ad35eba-0a57-4244-aac5-314d3a72da48",
   "metadata": {},
   "outputs": [
    {
     "name": "stdout",
     "output_type": "stream",
     "text": [
      "red\t[2]\t[0. 0. 1.]\n",
      "red\t[2]\t[0. 0. 1.]\n",
      "green\t[1]\t[0. 1. 0.]\n",
      "blue\t[0]\t[1. 0. 0.]\n",
      "red\t[2]\t[0. 0. 1.]\n",
      "blue\t[0]\t[1. 0. 0.]\n",
      "blue\t[0]\t[1. 0. 0.]\n",
      "green\t[1]\t[0. 1. 0.]\n"
     ]
    }
   ],
   "source": [
    "lbl = LabelEncoder()\n",
    "enc = OneHotEncoder(sparse=False)\n",
    "qualitative = ['red', 'red', 'green', 'blue', 'red', 'blue', 'blue', 'green']\n",
    "\n",
    "ordinal = lbl.fit_transform(qualitative).reshape(-1, 1)\n",
    "one_hot = enc.fit_transform(np.asarray(qualitative).reshape(-1, 1))\n",
    "\n",
    "for i, j, k in zip(qualitative, ordinal, one_hot):\n",
    "    print(f\"{i}\\t{j}\\t{k}\")"
   ]
  },
  {
   "cell_type": "markdown",
   "id": "972840ca-f5d5-48da-9070-c86088f651c7",
   "metadata": {},
   "source": [
    "### Polynomial features"
   ]
  },
  {
   "cell_type": "code",
   "execution_count": 5,
   "id": "70f2d744-afd6-4d31-bd74-aa33bec0af55",
   "metadata": {},
   "outputs": [
    {
     "name": "stdout",
     "output_type": "stream",
     "text": [
      "train R2:\t0.685\n",
      "test R2:\t0.646\n"
     ]
    }
   ],
   "source": [
    "pf = PolynomialFeatures(degree=2)\n",
    "poly_X_train, poly_X_test = pf.fit_transform(X_train), pf.fit_transform(X_test)\n",
    "\n",
    "lm = LinearRegression()\n",
    "lm.fit(poly_X_train, y_train)\n",
    "\n",
    "print(f\"train R2:\\t{lm.score(poly_X_train, y_train):.3}\")\n",
    "print(f\"test R2:\\t{lm.score(poly_X_test, y_test):.3}\")"
   ]
  },
  {
   "cell_type": "markdown",
   "id": "41a62779-0db4-463e-b688-129a67e43ebe",
   "metadata": {},
   "source": [
    "## Classification\n",
    "Regression cannot solve classification"
   ]
  },
  {
   "cell_type": "code",
   "execution_count": 6,
   "id": "1fa05e49-d624-4691-9fcf-9a834085ccea",
   "metadata": {},
   "outputs": [
    {
     "name": "stdout",
     "output_type": "stream",
     "text": [
      "0.0 -> -0.167\n",
      "0.0 -> +0.0238\n",
      "0.0 -> +0.214\n",
      "0.0 -> +0.405\n",
      "1.0 -> +0.595\n",
      "1.0 -> +0.786\n",
      "1.0 -> +0.976\n",
      "1.0 -> +1.17\n"
     ]
    }
   ],
   "source": [
    "y = np.concatenate([np.zeros(4), np.ones(4)])\n",
    "X = np.arange(1, 9).reshape(-1, 1)\n",
    "\n",
    "lm = LinearRegression()\n",
    "lm.fit(X, y)\n",
    "preds = lm.predict(X)\n",
    "\n",
    "for y_true, y_pred in zip(y, preds):\n",
    "    print(f\"{y_true} -> {y_pred:+.3}\")"
   ]
  },
  {
   "cell_type": "code",
   "execution_count": 7,
   "id": "c73500f7-d4e3-4d86-a237-36b3629fd233",
   "metadata": {},
   "outputs": [
    {
     "name": "stdout",
     "output_type": "stream",
     "text": [
      "In-sample accuracy: 0.938\n",
      "Out-sample accuracy: 0.937\n",
      "\n",
      "MedInc: \t+2.22\n",
      "HouseAge: \t+0.68\n",
      "AveRooms: \t-0.794\n",
      "AveBedrms: \t+1.05\n",
      "Population: \t+0.0668\n",
      "AveOccup: \t-10.2\n",
      "Latitude: \t-3.51\n",
      "Longitude: \t-3.02\n",
      "\n",
      "Classes: [False  True]\n",
      "Probabilities:\n",
      " [[9.99890142e-01 1.09858450e-04]\n",
      " [9.87417443e-01 1.25825569e-02]\n",
      " [5.84395332e-01 4.15604668e-01]]\n"
     ]
    }
   ],
   "source": [
    "lr = LogisticRegression()\n",
    "lr.fit(X_train, y_train >= 3.772)\n",
    "\n",
    "in_sample_acc = accuracy_score(y_train >= 3.772, lr.predict(X_train))\n",
    "out_sample_acc = accuracy_score(y_test >= 3.772, lr.predict(X_test))\n",
    "\n",
    "print(f\"In-sample accuracy: {in_sample_acc:.3}\")\n",
    "print(f\"Out-sample accuracy: {out_sample_acc:.3}\\n\")\n",
    "for var, coef in zip(X_train.columns, lr.coef_[0]):\n",
    "    print(f\"{var}: \\t{coef:+.3}\")\n",
    "    \n",
    "print('\\nClasses:', lr.classes_)\n",
    "print('Probabilities:\\n', lr.predict_proba(X_test)[:3])"
   ]
  },
  {
   "cell_type": "markdown",
   "id": "9602b632-4454-4c4e-bfe1-9f2085687a11",
   "metadata": {},
   "source": [
    "## Feature selection"
   ]
  },
  {
   "cell_type": "code",
   "execution_count": 8,
   "id": "15fd9189-3ae1-46ef-81bd-6cdf2d434a87",
   "metadata": {},
   "outputs": [],
   "source": [
    "r2_train = []\n",
    "r2_test = []\n",
    "\n",
    "for i in range(1, 129):\n",
    "    X_train_extra = np.column_stack((X_train, np.random.rand(len(X_train), i)))\n",
    "    X_test_extra = np.column_stack((X_test, np.random.rand(len(X_test), i)))\n",
    "    \n",
    "    lr = LinearRegression()\n",
    "    lr.fit(X_train_extra, y_train)\n",
    "    r2_train.append(lr.score(X_train_extra, y_train))\n",
    "    r2_test.append(lr.score(X_test_extra, y_test))"
   ]
  },
  {
   "cell_type": "code",
   "execution_count": 9,
   "id": "3920e3c6-cb30-4c92-ad4c-e2049bc94bd8",
   "metadata": {},
   "outputs": [
    {
     "data": {
      "image/png": "[encoded data removed]",
      "text/plain": [
       "<Figure size 720x480 with 1 Axes>"
      ]
     },
     "metadata": {
      "needs_background": "light"
     },
     "output_type": "display_data"
    }
   ],
   "source": [
    "fig, ax = plt.subplots(dpi=120)\n",
    "plt.plot(r2_train, label='train')\n",
    "plt.plot(r2_test, label='test')\n",
    "plt.xlabel(\"Additional random features\")\n",
    "plt.ylabel(\"R2\")\n",
    "plt.legend()\n",
    "plt.grid()\n",
    "plt.show()"
   ]
  },
  {
   "cell_type": "code",
   "execution_count": 10,
   "id": "af3ac131-504c-4047-81db-013dff885fe7",
   "metadata": {},
   "outputs": [
    {
     "name": "stdout",
     "output_type": "stream",
     "text": [
      "Features reduced to 4 from 45\n",
      "\n",
      "R2 train:\t0.588\n",
      "R2 test:\t0.572\n"
     ]
    }
   ],
   "source": [
    "pf = PolynomialFeatures(degree=2)\n",
    "poly_X_train = pf.fit_transform(X_train)\n",
    "poly_X_test = pf.fit_transform(X_test)\n",
    "\n",
    "selector = RFECV(estimator=LinearRegression(), step=1, cv=10, scoring='r2')\n",
    "\n",
    "selector.fit(poly_X_train, y_train)\n",
    "\n",
    "n_features = selector.n_features_\n",
    "print(f\"Features reduced to {n_features} from {poly_X_train.shape[1]}\")\n",
    "\n",
    "r2_train = selector.score(poly_X_train, y_train)\n",
    "r2_test = selector.score(poly_X_test, y_test)\n",
    "print(f\"\\nR2 train:\\t{r2_train:.3}\")\n",
    "print(f\"R2 test:\\t{r2_test:.3}\")"
   ]
  },
  {
   "cell_type": "code",
   "execution_count": 11,
   "id": "b2b118d7-c0ef-42e3-b385-bed5f0336efd",
   "metadata": {},
   "outputs": [
    {
     "name": "stdout",
     "output_type": "stream",
     "text": [
      "Best alpha:\t0.001\n",
      "Test R2:\t0.576\n",
      "\n",
      "MedInc: \t+0.851\n",
      "HouseAge: \t+0.124\n",
      "AveRooms: \t-0.302\n",
      "AveBedrms: \t+0.367\n",
      "Population: \t-0.00189\n",
      "AveOccup: \t-0.0367\n",
      "Latitude: \t-0.884\n",
      "Longitude: \t-0.856\n"
     ]
    }
   ],
   "source": [
    "warnings.filterwarnings('ignore')\n",
    "\n",
    "l2_lm = RidgeCV(alphas=np.logspace(-3, 2, num=6), normalize=True, cv=5, scoring='r2')\n",
    "l2_lm.fit(X_train, y_train)\n",
    "\n",
    "best_alpha = l2_lm.alpha_\n",
    "r2_test = l2_lm.score(X_test, y_test)\n",
    "\n",
    "print(f\"Best alpha:\\t{best_alpha}\")\n",
    "print(f\"Test R2:\\t{r2_test:.3}\\n\")\n",
    "for var, coef in zip(X_train.columns, l2_lm.coef_):\n",
    "    print(f\"{var}: \\t{coef:+.3}\")"
   ]
  },
  {
   "cell_type": "code",
   "execution_count": 12,
   "id": "58003d82-5431-4517-8a2f-535d52e7a617",
   "metadata": {},
   "outputs": [
    {
     "name": "stdout",
     "output_type": "stream",
     "text": [
      "Best alpha:\t0.001\n",
      "Test R2:\t0.469\n",
      "\n",
      "MedInc: \t+0.677\n",
      "HouseAge: \t+0.074\n",
      "AveRooms: \t-0.0\n",
      "AveBedrms: \t-0.0\n",
      "Population: \t-0.0\n",
      "AveOccup: \t-0.0\n",
      "Latitude: \t-0.0\n",
      "Longitude: \t-0.0\n"
     ]
    }
   ],
   "source": [
    "l1_lm = LassoCV(alphas=np.logspace(-3, 2, num=6), normalize=True, cv=5)\n",
    "l1_lm.fit(X_train, y_train)\n",
    "\n",
    "best_alpha = l1_lm.alpha_\n",
    "r2_test = l1_lm.score(X_test, y_test)\n",
    "\n",
    "print(f\"Best alpha:\\t{best_alpha}\")\n",
    "print(f\"Test R2:\\t{r2_test:.3}\\n\")\n",
    "for var, coef in zip(X_train.columns, l1_lm.coef_):\n",
    "    print(f\"{var}: \\t{coef:+.3}\")"
   ]
  },
  {
   "cell_type": "markdown",
   "id": "7d074c29-b7ba-4094-a43d-e568f6d1779b",
   "metadata": {},
   "source": [
    "## Stochastic gradient descent"
   ]
  },
  {
   "cell_type": "code",
   "execution_count": 13,
   "id": "86befb40-c418-4e56-8ff1-ebb99d929b22",
   "metadata": {},
   "outputs": [
    {
     "name": "stdout",
     "output_type": "stream",
     "text": [
      "Epoch: 1\n",
      "Epoch: 2\n",
      "Epoch: 3\n",
      "Epoch: 4\n",
      "Epoch: 5\n",
      "Epoch: 6\n",
      "Epoch: 7\n",
      "Epoch: 8\n",
      "Epoch: 9\n",
      "Epoch: 10\n",
      "Epoch: 11\n",
      "Epoch: 12\n",
      "Epoch: 13\n",
      "Epoch: 14\n",
      "Epoch: 15\n",
      "Epoch: 16\n",
      "Epoch: 17\n",
      "Epoch: 18\n",
      "Epoch: 19\n",
      "Epoch: 20\n",
      "Epoch: 21\n",
      "Epoch: 22\n",
      "Epoch: 23\n",
      "Epoch: 24\n",
      "Epoch: 25\n",
      "Epoch: 26\n",
      "Epoch: 27\n",
      "Epoch: 28\n",
      "Epoch: 29\n",
      "Epoch: 30\n"
     ]
    },
    {
     "data": {
      "image/png": "[encoded data removed]",
      "text/plain": [
       "<Figure size 720x480 with 1 Axes>"
      ]
     },
     "metadata": {
      "needs_background": "light"
     },
     "output_type": "display_data"
    }
   ],
   "source": [
    "SGD = SGDRegressor(penalty='l2', learning_rate='invscaling', eta0=0.01, power_t=0.25)\n",
    "\n",
    "r2_train = []\n",
    "r2_test = []\n",
    "\n",
    "for i in range(30):\n",
    "    print(\"Epoch:\", i+1)\n",
    "    for j in range(len(X_train)):\n",
    "        SGD.partial_fit(X_train.iloc[[j],:], y_train[[j]])\n",
    "    r2_train.append(SGD.score(X_train, y_train))\n",
    "    r2_test.append(SGD.score(X_test, y_test))\n",
    "\n",
    "fig, ax = plt.subplots(dpi=120)\n",
    "plt.plot(r2_train, label='train')\n",
    "plt.plot(r2_test, label='test')\n",
    "plt.xlabel(\"Number of iterations\")\n",
    "plt.ylabel(\"R2\")\n",
    "plt.legend()\n",
    "plt.grid()\n",
    "plt.show()"
   ]
  }
 ],
 "metadata": {
  "kernelspec": {
   "display_name": "Python 3 (ipykernel)",
   "language": "python",
   "name": "python3"
  },
  "language_info": {
   "codemirror_mode": {
    "name": "ipython",
    "version": 3
   },
   "file_extension": ".py",
   "mimetype": "text/x-python",
   "name": "python",
   "nbconvert_exporter": "python",
   "pygments_lexer": "ipython3",
   "version": "3.10.2"
  }
 },
 "nbformat": 4,
 "nbformat_minor": 5
}
