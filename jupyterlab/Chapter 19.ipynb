{
 "cells": [
  {
   "cell_type": "markdown",
   "id": "5ee41568-4ef1-4870-8547-0b0dd25d8d1a",
   "metadata": {},
   "source": [
    "# Chapter 19\n",
    "## Recommender systems"
   ]
  },
  {
   "cell_type": "code",
   "execution_count": 1,
   "id": "437f3400-1430-4c01-933c-42b1feca35ec",
   "metadata": {},
   "outputs": [],
   "source": [
    "import os\n",
    "import zipfile\n",
    "import codecs\n",
    "import collections\n",
    "import numpy as np\n",
    "import pandas as pd\n",
    "from urllib import request\n",
    "from scipy.sparse import csr_matrix\n",
    "from sklearn.decomposition import TruncatedSVD"
   ]
  },
  {
   "cell_type": "markdown",
   "id": "8e8ce482-d75b-46e7-87b6-aeed38c0dc36",
   "metadata": {},
   "source": [
    "### Getting ranking data"
   ]
  },
  {
   "cell_type": "code",
   "execution_count": 2,
   "id": "1f67553c-1394-403c-84cc-d47e90a2c4be",
   "metadata": {},
   "outputs": [],
   "source": [
    "DirName = 'ml-1m'\n",
    "Filename = 'ml-1m.zip'\n",
    "if not os.path.exists(DirName):\n",
    "    url = \"http://files.grouplens.org/datasets/movielens/\"\n",
    "    request.urlretrieve(url + Filename, Filename)\n",
    "    with zipfile.ZipFile(Filename, 'r') as zip_ref:\n",
    "        zip_ref.extractall()"
   ]
  },
  {
   "cell_type": "code",
   "execution_count": 3,
   "id": "e314e439-162a-4710-bc28-4a25ae71cfbe",
   "metadata": {},
   "outputs": [],
   "source": [
    "users = pd.read_table('ml-1m/users.dat', sep='::', header=None, names=['user_id', 'gender', 'age', 'occupation', 'zip'], engine='python')\n",
    "ratings = pd.read_table('ml-1m/ratings.dat', sep='::', header=None, names=['user_id', 'movie_id', 'rating', 'timestamp'], engine='python')\n",
    "movies = pd.read_table('ml-1m/movies.dat', sep='::', header=None, names=['movie_id', 'title', 'genres'], engine='python', encoding='latin1')\n",
    "movieLens = pd.merge(pd.merge(ratings, users), movies)"
   ]
  },
  {
   "cell_type": "code",
   "execution_count": 4,
   "id": "62fd30ed-c191-48da-a02f-6b35570b65f4",
   "metadata": {},
   "outputs": [
    {
     "name": "stdout",
     "output_type": "stream",
     "text": [
      "rating\n",
      "1     56174\n",
      "2    107557\n",
      "3    261197\n",
      "4    348971\n",
      "5    226310\n",
      "Name: user_id, dtype: int64\n"
     ]
    }
   ],
   "source": [
    "print(movieLens.set_index(['title', 'rating']).groupby(level='rating').count()['user_id'])"
   ]
  },
  {
   "cell_type": "code",
   "execution_count": 5,
   "id": "1f94eec7-4790-4523-bdd7-ed48924d4ec4",
   "metadata": {},
   "outputs": [
    {
     "name": "stdout",
     "output_type": "stream",
     "text": [
      "Average movie number of reviews per person: 165.6\n",
      "\n",
      "Number of reviews per movie\n",
      "title\n",
      "$1,000,000 Duck (1971)                         37\n",
      "'Night Mother (1986)                           70\n",
      "'Til There Was You (1997)                      52\n",
      "'burbs, The (1989)                            303\n",
      "...And Justice for All (1979)                 199\n",
      "                                             ... \n",
      "Zed & Two Noughts, A (1985)                    29\n",
      "Zero Effect (1998)                            301\n",
      "Zero Kelvin (Kjærlighetens kjøtere) (1995)      2\n",
      "Zeus and Roxanne (1997)                        23\n",
      "eXistenZ (1999)                               410\n",
      "Name: movie_id, Length: 3706, dtype: int64\n"
     ]
    }
   ],
   "source": [
    "indUser = movieLens.set_index(['movie_id', 'user_id']).groupby(level='user_id').count()['title']\n",
    "indMovie = movieLens.set_index(['user_id', 'title']).groupby(level='title').count()['movie_id']\n",
    "\n",
    "print(f\"Average movie number of reviews per person: {indUser.mean():.4}\")\n",
    "print('\\nNumber of reviews per movie\\n' + str(indMovie))"
   ]
  },
  {
   "cell_type": "code",
   "execution_count": 6,
   "id": "bdc94278-e63e-462c-84cf-b830926f2c98",
   "metadata": {},
   "outputs": [
    {
     "name": "stdout",
     "output_type": "stream",
     "text": [
      "29910 users gave Star Wars: Episode IV - A New Hope (1977) an average rating of 4.454\n"
     ]
    }
   ],
   "source": [
    "movie = 260\n",
    "selMovie = movieLens[movieLens['movie_id'] == movie]\n",
    "print(f\"{selMovie.size} users gave {selMovie['title'].iloc[0]} an average rating of {selMovie['rating'].mean():.4}\")"
   ]
  },
  {
   "cell_type": "code",
   "execution_count": 7,
   "id": "cb9bbde3-e955-48b4-870f-abaa6e6c0686",
   "metadata": {},
   "outputs": [
    {
     "name": "stdout",
     "output_type": "stream",
     "text": [
      "Total number of attributes:  294\n",
      "Total number of Users:  32710\n",
      "Total number of VRoots:  285\n"
     ]
    }
   ],
   "source": [
    "file = codecs.open('msweb', 'r')\n",
    "\n",
    "attribute = collections.namedtuple('page', ['id', 'description', 'url'])\n",
    "attributes = {}\n",
    "\n",
    "current_user_id = None\n",
    "current_user_ids = []\n",
    "user_visits = {}\n",
    "page_visits = {}\n",
    "\n",
    "for line in file:\n",
    "    chunks = line.split(',')\n",
    "    entry_type = chunks[0]\n",
    "    if entry_type == 'A':\n",
    "        _, id, _, description, url = chunks\n",
    "        attributes[int(id)] = attribute(id=int(id), description=description, url=url)\n",
    "    \n",
    "    if entry_type == 'C':\n",
    "        if current_user_id is not None:\n",
    "            user_visits[current_user_id] = set(current_user_ids)\n",
    "            current_user_ids = []\n",
    "        current_user_id = int(chunks[2])\n",
    "    \n",
    "    if entry_type == 'V':\n",
    "        page_id = int(chunks[1])\n",
    "        current_user_ids.append(page_id)\n",
    "        page_visits.setdefault(page_id, [])\n",
    "        page_visits[page_id].append(current_user_id)\n",
    "\n",
    "print('Total number of attributes: ', len(attributes.keys()))\n",
    "print('Total number of Users: ', len(user_visits.keys()))\n",
    "print('Total number of VRoots: ', len(page_visits.keys()))"
   ]
  },
  {
   "cell_type": "markdown",
   "id": "31f8dd5b-c781-44a5-b12d-ee805da55909",
   "metadata": {},
   "source": [
    "### Data preparation"
   ]
  },
  {
   "cell_type": "code",
   "execution_count": 8,
   "id": "741b37a9-0bb1-4c9c-b27e-be454e026701",
   "metadata": {},
   "outputs": [
    {
     "data": {
      "text/html": [
       "<div>\n",
       "<style scoped>\n",
       "    .dataframe tbody tr th:only-of-type {\n",
       "        vertical-align: middle;\n",
       "    }\n",
       "\n",
       "    .dataframe tbody tr th {\n",
       "        vertical-align: top;\n",
       "    }\n",
       "\n",
       "    .dataframe thead th {\n",
       "        text-align: right;\n",
       "    }\n",
       "</style>\n",
       "<table border=\"1\" class=\"dataframe\">\n",
       "  <thead>\n",
       "    <tr style=\"text-align: right;\">\n",
       "      <th></th>\n",
       "      <th>user_id</th>\n",
       "      <th>rating</th>\n",
       "      <th>title</th>\n",
       "    </tr>\n",
       "  </thead>\n",
       "  <tbody>\n",
       "    <tr>\n",
       "      <th>0</th>\n",
       "      <td>1</td>\n",
       "      <td>5</td>\n",
       "      <td>One Flew Over the Cuckoo's Nest (1975)</td>\n",
       "    </tr>\n",
       "    <tr>\n",
       "      <th>1</th>\n",
       "      <td>2</td>\n",
       "      <td>5</td>\n",
       "      <td>One Flew Over the Cuckoo's Nest (1975)</td>\n",
       "    </tr>\n",
       "    <tr>\n",
       "      <th>2</th>\n",
       "      <td>12</td>\n",
       "      <td>4</td>\n",
       "      <td>One Flew Over the Cuckoo's Nest (1975)</td>\n",
       "    </tr>\n",
       "    <tr>\n",
       "      <th>3</th>\n",
       "      <td>15</td>\n",
       "      <td>4</td>\n",
       "      <td>One Flew Over the Cuckoo's Nest (1975)</td>\n",
       "    </tr>\n",
       "    <tr>\n",
       "      <th>4</th>\n",
       "      <td>17</td>\n",
       "      <td>5</td>\n",
       "      <td>One Flew Over the Cuckoo's Nest (1975)</td>\n",
       "    </tr>\n",
       "  </tbody>\n",
       "</table>\n",
       "</div>"
      ],
      "text/plain": [
       "   user_id  rating                                   title\n",
       "0        1       5  One Flew Over the Cuckoo's Nest (1975)\n",
       "1        2       5  One Flew Over the Cuckoo's Nest (1975)\n",
       "2       12       4  One Flew Over the Cuckoo's Nest (1975)\n",
       "3       15       4  One Flew Over the Cuckoo's Nest (1975)\n",
       "4       17       5  One Flew Over the Cuckoo's Nest (1975)"
      ]
     },
     "metadata": {},
     "output_type": "display_data"
    },
    {
     "name": "stdout",
     "output_type": "stream",
     "text": [
      "\n",
      "Original shape: (1000209, 10)\n",
      "New shape: (836478, 3)\n"
     ]
    }
   ],
   "source": [
    "reduced_movies = movieLens[movieLens['rating'] >= 3.0].drop(columns=['movie_id', 'timestamp', 'genres', 'gender', 'age', 'occupation', 'zip'])\n",
    "\n",
    "display(reduced_movies.head())\n",
    "print(f\"\\nOriginal shape: {movieLens.shape}\\nNew shape: {reduced_movies.shape}\")"
   ]
  },
  {
   "cell_type": "code",
   "execution_count": 9,
   "id": "c7a5b4d0-b838-4246-8a84-4febb072408f",
   "metadata": {},
   "outputs": [
    {
     "name": "stdout",
     "output_type": "stream",
     "text": [
      "title\n",
      "Few Good Men, A (1992)    1003\n",
      "My Cousin Vinny (1992)    1003\n",
      "Boogie Nights (1997)      1004\n",
      "Witness (1985)            1009\n",
      "Sneakers (1992)           1009\n",
      "Name: rating, dtype: int64\n",
      "\n",
      "New shape:  (237212, 3)\n"
     ]
    }
   ],
   "source": [
    "reduced_movies = reduced_movies[reduced_movies.groupby('title')['rating'].transform('size') > 1000]\n",
    "\n",
    "print(reduced_movies.groupby('title')['rating'].count().sort_values().head())\n",
    "print('\\nNew shape: ', reduced_movies.shape)"
   ]
  },
  {
   "cell_type": "markdown",
   "id": "e9caa6ea-753e-42fc-8f41-33ba0133948e",
   "metadata": {},
   "source": [
    "### Collaborative filtering"
   ]
  },
  {
   "cell_type": "code",
   "execution_count": 10,
   "id": "b76613f3-785c-4197-8e52-db38ae247932",
   "metadata": {},
   "outputs": [
    {
     "data": {
      "text/html": [
       "<div>\n",
       "<style scoped>\n",
       "    .dataframe tbody tr th:only-of-type {\n",
       "        vertical-align: middle;\n",
       "    }\n",
       "\n",
       "    .dataframe tbody tr th {\n",
       "        vertical-align: top;\n",
       "    }\n",
       "\n",
       "    .dataframe thead th {\n",
       "        text-align: right;\n",
       "    }\n",
       "</style>\n",
       "<table border=\"1\" class=\"dataframe\">\n",
       "  <thead>\n",
       "    <tr style=\"text-align: right;\">\n",
       "      <th>title</th>\n",
       "      <th>2001: A Space Odyssey (1968)</th>\n",
       "      <th>Abyss, The (1989)</th>\n",
       "      <th>African Queen, The (1951)</th>\n",
       "      <th>Airplane! (1980)</th>\n",
       "      <th>Aladdin (1992)</th>\n",
       "      <th>Alien (1979)</th>\n",
       "      <th>Aliens (1986)</th>\n",
       "      <th>Amadeus (1984)</th>\n",
       "      <th>American Beauty (1999)</th>\n",
       "      <th>American Pie (1999)</th>\n",
       "      <th>...</th>\n",
       "      <th>Twelve Monkeys (1995)</th>\n",
       "      <th>Untouchables, The (1987)</th>\n",
       "      <th>Usual Suspects, The (1995)</th>\n",
       "      <th>When Harry Met Sally... (1989)</th>\n",
       "      <th>Who Framed Roger Rabbit? (1988)</th>\n",
       "      <th>Willy Wonka and the Chocolate Factory (1971)</th>\n",
       "      <th>Witness (1985)</th>\n",
       "      <th>Wizard of Oz, The (1939)</th>\n",
       "      <th>X-Men (2000)</th>\n",
       "      <th>Young Frankenstein (1974)</th>\n",
       "    </tr>\n",
       "    <tr>\n",
       "      <th>user_id</th>\n",
       "      <th></th>\n",
       "      <th></th>\n",
       "      <th></th>\n",
       "      <th></th>\n",
       "      <th></th>\n",
       "      <th></th>\n",
       "      <th></th>\n",
       "      <th></th>\n",
       "      <th></th>\n",
       "      <th></th>\n",
       "      <th></th>\n",
       "      <th></th>\n",
       "      <th></th>\n",
       "      <th></th>\n",
       "      <th></th>\n",
       "      <th></th>\n",
       "      <th></th>\n",
       "      <th></th>\n",
       "      <th></th>\n",
       "      <th></th>\n",
       "      <th></th>\n",
       "    </tr>\n",
       "  </thead>\n",
       "  <tbody>\n",
       "    <tr>\n",
       "      <th>1</th>\n",
       "      <td>NaN</td>\n",
       "      <td>NaN</td>\n",
       "      <td>NaN</td>\n",
       "      <td>4.0</td>\n",
       "      <td>4.0</td>\n",
       "      <td>NaN</td>\n",
       "      <td>NaN</td>\n",
       "      <td>NaN</td>\n",
       "      <td>NaN</td>\n",
       "      <td>NaN</td>\n",
       "      <td>...</td>\n",
       "      <td>NaN</td>\n",
       "      <td>NaN</td>\n",
       "      <td>NaN</td>\n",
       "      <td>NaN</td>\n",
       "      <td>NaN</td>\n",
       "      <td>NaN</td>\n",
       "      <td>NaN</td>\n",
       "      <td>4.0</td>\n",
       "      <td>NaN</td>\n",
       "      <td>NaN</td>\n",
       "    </tr>\n",
       "    <tr>\n",
       "      <th>2</th>\n",
       "      <td>NaN</td>\n",
       "      <td>NaN</td>\n",
       "      <td>NaN</td>\n",
       "      <td>NaN</td>\n",
       "      <td>NaN</td>\n",
       "      <td>NaN</td>\n",
       "      <td>NaN</td>\n",
       "      <td>5.0</td>\n",
       "      <td>4.0</td>\n",
       "      <td>NaN</td>\n",
       "      <td>...</td>\n",
       "      <td>NaN</td>\n",
       "      <td>4.0</td>\n",
       "      <td>NaN</td>\n",
       "      <td>NaN</td>\n",
       "      <td>NaN</td>\n",
       "      <td>NaN</td>\n",
       "      <td>NaN</td>\n",
       "      <td>NaN</td>\n",
       "      <td>NaN</td>\n",
       "      <td>NaN</td>\n",
       "    </tr>\n",
       "    <tr>\n",
       "      <th>3</th>\n",
       "      <td>NaN</td>\n",
       "      <td>NaN</td>\n",
       "      <td>NaN</td>\n",
       "      <td>NaN</td>\n",
       "      <td>NaN</td>\n",
       "      <td>NaN</td>\n",
       "      <td>NaN</td>\n",
       "      <td>NaN</td>\n",
       "      <td>4.0</td>\n",
       "      <td>NaN</td>\n",
       "      <td>...</td>\n",
       "      <td>NaN</td>\n",
       "      <td>NaN</td>\n",
       "      <td>NaN</td>\n",
       "      <td>NaN</td>\n",
       "      <td>NaN</td>\n",
       "      <td>NaN</td>\n",
       "      <td>NaN</td>\n",
       "      <td>NaN</td>\n",
       "      <td>NaN</td>\n",
       "      <td>NaN</td>\n",
       "    </tr>\n",
       "    <tr>\n",
       "      <th>4</th>\n",
       "      <td>NaN</td>\n",
       "      <td>NaN</td>\n",
       "      <td>NaN</td>\n",
       "      <td>NaN</td>\n",
       "      <td>NaN</td>\n",
       "      <td>4.0</td>\n",
       "      <td>NaN</td>\n",
       "      <td>NaN</td>\n",
       "      <td>NaN</td>\n",
       "      <td>NaN</td>\n",
       "      <td>...</td>\n",
       "      <td>NaN</td>\n",
       "      <td>NaN</td>\n",
       "      <td>NaN</td>\n",
       "      <td>NaN</td>\n",
       "      <td>NaN</td>\n",
       "      <td>NaN</td>\n",
       "      <td>NaN</td>\n",
       "      <td>NaN</td>\n",
       "      <td>NaN</td>\n",
       "      <td>NaN</td>\n",
       "    </tr>\n",
       "    <tr>\n",
       "      <th>5</th>\n",
       "      <td>NaN</td>\n",
       "      <td>NaN</td>\n",
       "      <td>NaN</td>\n",
       "      <td>NaN</td>\n",
       "      <td>NaN</td>\n",
       "      <td>NaN</td>\n",
       "      <td>NaN</td>\n",
       "      <td>NaN</td>\n",
       "      <td>4.0</td>\n",
       "      <td>NaN</td>\n",
       "      <td>...</td>\n",
       "      <td>4.0</td>\n",
       "      <td>NaN</td>\n",
       "      <td>5.0</td>\n",
       "      <td>NaN</td>\n",
       "      <td>4.0</td>\n",
       "      <td>NaN</td>\n",
       "      <td>NaN</td>\n",
       "      <td>4.0</td>\n",
       "      <td>NaN</td>\n",
       "      <td>NaN</td>\n",
       "    </tr>\n",
       "  </tbody>\n",
       "</table>\n",
       "<p>5 rows × 161 columns</p>\n",
       "</div>"
      ],
      "text/plain": [
       "title    2001: A Space Odyssey (1968)  Abyss, The (1989)  \\\n",
       "user_id                                                    \n",
       "1                                 NaN                NaN   \n",
       "2                                 NaN                NaN   \n",
       "3                                 NaN                NaN   \n",
       "4                                 NaN                NaN   \n",
       "5                                 NaN                NaN   \n",
       "\n",
       "title    African Queen, The (1951)  Airplane! (1980)  Aladdin (1992)  \\\n",
       "user_id                                                                \n",
       "1                              NaN               4.0             4.0   \n",
       "2                              NaN               NaN             NaN   \n",
       "3                              NaN               NaN             NaN   \n",
       "4                              NaN               NaN             NaN   \n",
       "5                              NaN               NaN             NaN   \n",
       "\n",
       "title    Alien (1979)  Aliens (1986)  Amadeus (1984)  American Beauty (1999)  \\\n",
       "user_id                                                                        \n",
       "1                 NaN            NaN             NaN                     NaN   \n",
       "2                 NaN            NaN             5.0                     4.0   \n",
       "3                 NaN            NaN             NaN                     4.0   \n",
       "4                 4.0            NaN             NaN                     NaN   \n",
       "5                 NaN            NaN             NaN                     4.0   \n",
       "\n",
       "title    American Pie (1999)  ...  Twelve Monkeys (1995)  \\\n",
       "user_id                       ...                          \n",
       "1                        NaN  ...                    NaN   \n",
       "2                        NaN  ...                    NaN   \n",
       "3                        NaN  ...                    NaN   \n",
       "4                        NaN  ...                    NaN   \n",
       "5                        NaN  ...                    4.0   \n",
       "\n",
       "title    Untouchables, The (1987)  Usual Suspects, The (1995)  \\\n",
       "user_id                                                         \n",
       "1                             NaN                         NaN   \n",
       "2                             4.0                         NaN   \n",
       "3                             NaN                         NaN   \n",
       "4                             NaN                         NaN   \n",
       "5                             NaN                         5.0   \n",
       "\n",
       "title    When Harry Met Sally... (1989)  Who Framed Roger Rabbit? (1988)  \\\n",
       "user_id                                                                    \n",
       "1                                   NaN                              NaN   \n",
       "2                                   NaN                              NaN   \n",
       "3                                   NaN                              NaN   \n",
       "4                                   NaN                              NaN   \n",
       "5                                   NaN                              4.0   \n",
       "\n",
       "title    Willy Wonka and the Chocolate Factory (1971)  Witness (1985)  \\\n",
       "user_id                                                                 \n",
       "1                                                 NaN             NaN   \n",
       "2                                                 NaN             NaN   \n",
       "3                                                 NaN             NaN   \n",
       "4                                                 NaN             NaN   \n",
       "5                                                 NaN             NaN   \n",
       "\n",
       "title    Wizard of Oz, The (1939)  X-Men (2000)  Young Frankenstein (1974)  \n",
       "user_id                                                                     \n",
       "1                             4.0           NaN                        NaN  \n",
       "2                             NaN           NaN                        NaN  \n",
       "3                             NaN           NaN                        NaN  \n",
       "4                             NaN           NaN                        NaN  \n",
       "5                             4.0           NaN                        NaN  \n",
       "\n",
       "[5 rows x 161 columns]"
      ]
     },
     "metadata": {},
     "output_type": "display_data"
    }
   ],
   "source": [
    "user_rating = pd.pivot_table(reduced_movies, index='user_id', columns='title', values='rating')\n",
    "display(user_rating.head())"
   ]
  },
  {
   "cell_type": "code",
   "execution_count": 11,
   "id": "8007a178-eb0b-482a-b00d-3b35ea091020",
   "metadata": {},
   "outputs": [
    {
     "name": "stdout",
     "output_type": "stream",
     "text": [
      "user_id\n",
      "10      5.0\n",
      "2537    5.0\n",
      "4904    5.0\n",
      "4901    5.0\n",
      "2486    5.0\n",
      "Name: Young Frankenstein (1974), dtype: float64\n"
     ]
    }
   ],
   "source": [
    "YF_ratings = user_rating['Young Frankenstein (1974)']\n",
    "print(YF_ratings.sort_values(ascending=False).head())"
   ]
  },
  {
   "cell_type": "code",
   "execution_count": 12,
   "id": "478b1977-bda4-47cf-a281-1a94a4c6a7f1",
   "metadata": {},
   "outputs": [
    {
     "name": "stdout",
     "output_type": "stream",
     "text": [
      "title\n",
      "Young Frankenstein (1974)                       1.000000\n",
      "Blazing Saddles (1974)                          0.412395\n",
      "Alien (1979)                                    0.297567\n",
      "Willy Wonka and the Chocolate Factory (1971)    0.272574\n",
      "M*A*S*H (1970)                                  0.259304\n",
      "dtype: float64\n"
     ]
    }
   ],
   "source": [
    "print(user_rating.corrwith(YF_ratings).sort_values(ascending=False).head())"
   ]
  },
  {
   "cell_type": "markdown",
   "id": "de1f2d51-0fe5-431f-bfa5-d2745ac4dd13",
   "metadata": {},
   "source": [
    "### Integrating text and behaviour"
   ]
  },
  {
   "cell_type": "code",
   "execution_count": 13,
   "id": "6eeee2ac-73c8-4da5-aa46-611113c53918",
   "metadata": {},
   "outputs": [
    {
     "name": "stdout",
     "output_type": "stream",
     "text": [
      "1287 \"International AutoRoute\"      \"/autoroute\"\n",
      "1288 \"library\"                      \"/library\"\n",
      "1289 \"Master Chef Product Informati \"/masterchef\"\n",
      "1297 \"Central America\"              \"/centroam\"\n",
      "1215 \"For Developers Only Info\"     \"/developer\"\n",
      "1279 \"Multimedia Golf\"              \"/msgolf\"\n",
      "1239 \"Microsoft Consulting\"         \"/msconsult\"\n",
      "1282 \"home\"                         \"/home\"\n",
      "1251 \"Reference Support\"            \"/referencesupport\"\n",
      "1121 \"Microsoft Magazine\"           \"/magazine\"\n",
      ".\n",
      ".\n",
      ".\n"
     ]
    }
   ],
   "source": [
    "for i, (k, v), in enumerate(attributes.items()):\n",
    "    if i > 9:\n",
    "        for _ in range(3): print('.')\n",
    "        break\n",
    "    print(f\"{v.id:4} {v.description:30.30} {v.url}\", end='')"
   ]
  },
  {
   "cell_type": "code",
   "execution_count": 14,
   "id": "15193512-0418-4c39-b7dc-28a411b4fb2d",
   "metadata": {},
   "outputs": [
    {
     "name": "stdout",
     "output_type": "stream",
     "text": [
      "Number of user visits:  98653\n",
      "Average number of visits: 3.02\n",
      "Users woth just one visit:  9994\n"
     ]
    }
   ],
   "source": [
    "nbr_visits = list(map(len, user_visits.values()))\n",
    "average_visits = sum(nbr_visits) / len(nbr_visits)\n",
    "one_visit = sum(x == 1 for x in nbr_visits)\n",
    "\n",
    "print('Number of user visits: ', sum(nbr_visits))\n",
    "print('Average number of visits: {:.3}'.format(average_visits))\n",
    "print('Users woth just one visit: ', one_visit)"
   ]
  },
  {
   "cell_type": "code",
   "execution_count": 15,
   "id": "a4b8ae15-f47b-43e9-9c1d-3d23ee63c844",
   "metadata": {},
   "outputs": [],
   "source": [
    "ratings_mtx_df = movieLens.pivot_table(values='rating', index='user_id', columns='title', fill_value=0)\n",
    "movie_index = ratings_mtx_df.columns"
   ]
  },
  {
   "cell_type": "code",
   "execution_count": 16,
   "id": "96f8b6ee-33ee-49f7-8665-63aec9717ad4",
   "metadata": {},
   "outputs": [],
   "source": [
    "recom = TruncatedSVD(n_components=15, random_state=101)\n",
    "R = recom.fit_transform(ratings_mtx_df.values.T)"
   ]
  },
  {
   "cell_type": "code",
   "execution_count": 17,
   "id": "2bf2e733-3a8b-41c0-b999-527985abfbf1",
   "metadata": {},
   "outputs": [
    {
     "name": "stdout",
     "output_type": "stream",
     "text": [
      "Movie index: 3154\n",
      "[184.72254552 -17.77612872  47.33450866  51.4664494   47.92058216\n",
      "  17.65033116  14.3574635  -12.82219207  17.51347857   5.46888807\n",
      "   7.5430805   -0.57117869 -30.74032355   2.4088565  -22.50368497]\n"
     ]
    }
   ],
   "source": [
    "movie = 'Star Wars: Episode V - The Empire Strikes Back (1980)'\n",
    "movie_idx = list(movie_index).index(movie)\n",
    "\n",
    "print(f\"Movie index: {movie_idx}\")\n",
    "print(R[movie_idx])"
   ]
  },
  {
   "cell_type": "code",
   "execution_count": 18,
   "id": "2ee9de2d-58f5-45c3-86cd-9ba61f2fe425",
   "metadata": {},
   "outputs": [
    {
     "name": "stdout",
     "output_type": "stream",
     "text": [
      "['Star Wars: Episode IV - A New Hope (1977)', 'Star Wars: Episode VI - Return of the Jedi (1983)']\n"
     ]
    }
   ],
   "source": [
    "correlation_matrix = np.corrcoef(R)\n",
    "P = correlation_matrix[movie_idx]\n",
    "\n",
    "print(list(movie_index[(P > 0.985) & (P < 1)]))"
   ]
  }
 ],
 "metadata": {
  "kernelspec": {
   "display_name": "Python 3 (ipykernel)",
   "language": "python",
   "name": "python3"
  },
  "language_info": {
   "codemirror_mode": {
    "name": "ipython",
    "version": 3
   },
   "file_extension": ".py",
   "mimetype": "text/x-python",
   "name": "python",
   "nbconvert_exporter": "python",
   "pygments_lexer": "ipython3",
   "version": "3.10.2"
  }
 },
 "nbformat": 4,
 "nbformat_minor": 5
}
