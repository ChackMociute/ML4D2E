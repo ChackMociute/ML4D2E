{
 "cells": [
  {
   "cell_type": "markdown",
   "id": "b2d31d5f-e1a7-469c-bdf9-e55b908973c8",
   "metadata": {},
   "source": [
    "# Chapter 15\n",
    "## SVMs"
   ]
  },
  {
   "cell_type": "code",
   "execution_count": 24,
   "id": "27404386-7764-4eed-b543-9ff7e4c2c30f",
   "metadata": {},
   "outputs": [],
   "source": [
    "import numpy as np\n",
    "from sklearn.datasets import load_digits\n",
    "from sklearn.model_selection import train_test_split, cross_val_score, GridSearchCV\n",
    "from sklearn.preprocessing import MinMaxScaler\n",
    "from sklearn.pipeline import make_pipeline\n",
    "from sklearn.svm import SVC"
   ]
  },
  {
   "cell_type": "markdown",
   "id": "601d48d1-f518-4ceb-990f-4852823cb1ba",
   "metadata": {},
   "source": [
    "### Classification"
   ]
  },
  {
   "cell_type": "code",
   "execution_count": 20,
   "id": "0201b308-42ca-4d0c-b7d5-817518844c62",
   "metadata": {},
   "outputs": [],
   "source": [
    "digits = load_digits()\n",
    "X, y = digits.data, digits.target\n",
    "X_train, X_test, y_train, y_test = train_test_split(X, y, test_size=0.2, random_state=42)\n",
    "\n",
    "svm = make_pipeline(MinMaxScaler(feature_range=(-1, 1)), SVC(gamma='auto'))"
   ]
  },
  {
   "cell_type": "code",
   "execution_count": 23,
   "id": "a03f7d79-3aee-4bf5-ada6-b1a82984ebaa",
   "metadata": {},
   "outputs": [
    {
     "name": "stdout",
     "output_type": "stream",
     "text": [
      "Cross-validation accuracy: 0.9847\n",
      "Test accuracy: 0.9806\n"
     ]
    }
   ],
   "source": [
    "cv_acc = cross_val_score(svm, X_train, y_train, cv=10)\n",
    "test_acc = svm.fit(X_train, y_train).score(X_test, y_test)\n",
    "\n",
    "print(f\"Cross-validation accuracy: {np.mean(cv_acc):.4f}\")\n",
    "print(f\"Test accuracy: {test_acc:.4f}\")"
   ]
  },
  {
   "cell_type": "markdown",
   "id": "6eabb687-a4dd-464e-9cc8-09d015a76c77",
   "metadata": {},
   "source": [
    "### Grid search"
   ]
  },
  {
   "cell_type": "code",
   "execution_count": 25,
   "id": "e8ea608c-3d47-469a-9b0c-62545d91150b",
   "metadata": {},
   "outputs": [
    {
     "name": "stdout",
     "output_type": "stream",
     "text": [
      "Best parameter: {'svc__C': 10.0, 'svc__gamma': 0.01, 'svc__kernel': 'rbf'}\n",
      "Cross-validation accuracy: 0.9889\n",
      "Test accuracy: 0.9861\n"
     ]
    }
   ],
   "source": [
    "search_space = [{'svc__kernel': ['linear'],\n",
    "                 'svc__C': np.logspace(-3, 3, 7)},\n",
    "                {'svc__kernel': ['rbf'],\n",
    "                 'svc__C': np.logspace(-3, 3, 7),\n",
    "                 'svc__gamma': np.logspace(-3, 2, 6)}]\n",
    "\n",
    "gridsearch = GridSearchCV(svm, param_grid=search_space, refit=True, cv=10, n_jobs=-2)\n",
    "\n",
    "gridsearch.fit(X_train, y_train)\n",
    "print(f\"Best parameter: {gridsearch.best_params_}\")\n",
    "cv_acc = gridsearch.best_score_\n",
    "test_acc = gridsearch.score(X_test, y_test)\n",
    "\n",
    "print(f\"Cross-validation accuracy: {np.mean(cv_acc):.4f}\")\n",
    "print(f\"Test accuracy: {test_acc:.4f}\")"
   ]
  }
 ],
 "metadata": {
  "kernelspec": {
   "display_name": "Python 3 (ipykernel)",
   "language": "python",
   "name": "python3"
  },
  "language_info": {
   "codemirror_mode": {
    "name": "ipython",
    "version": 3
   },
   "file_extension": ".py",
   "mimetype": "text/x-python",
   "name": "python",
   "nbconvert_exporter": "python",
   "pygments_lexer": "ipython3",
   "version": "3.10.2"
  }
 },
 "nbformat": 4,
 "nbformat_minor": 5
}
