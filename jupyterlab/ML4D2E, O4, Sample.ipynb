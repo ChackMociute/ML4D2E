{
 "cells": [
  {
   "cell_type": "markdown",
   "id": "4d3ca077-03eb-4b85-a7d2-a0092d1f1c55",
   "metadata": {},
   "source": [
    "# Machine Learning for Dummies\n",
    "\n"
   ]
  },
  {
   "cell_type": "code",
   "execution_count": 2,
   "id": "0eaf9aec-34f9-41b5-b26a-df98331438c4",
   "metadata": {},
   "outputs": [
    {
     "name": "stdout",
     "output_type": "stream",
     "text": [
      "Python version:\n",
      "3.9.7 (default, Sep 16 2021, 16:59:28) [MSC v.1916 64 bit (AMD64)]\n",
      "\n",
      "Anaconda version:\n",
      "# packages in environment at D:\\Anaconda:\n",
      "#\n",
      "# Name                    Version                   Build  Channel\n",
      "anaconda                  2021.11                  py39_0  \n",
      "\n"
     ]
    }
   ],
   "source": [
    "import sys\n",
    "import os\n",
    "\n",
    "print('Python version:\\n{}'.format(sys.version))\n",
    "\n",
    "print('\\nAnaconda version:\\n{}'.format(os.popen('conda list anaconda$').read()))"
   ]
  },
  {
   "cell_type": "code",
   "execution_count": 8,
   "id": "67149cff-93a8-4dc3-9be3-801c13b023e0",
   "metadata": {},
   "outputs": [
    {
     "name": "stdout",
     "output_type": "stream",
     "text": [
      "       Month  Passengers\n",
      "0    1949-01         112\n",
      "1    1949-02         118\n",
      "2    1949-03         132\n",
      "3    1949-04         129\n",
      "4    1949-05         121\n",
      "..       ...         ...\n",
      "139  1960-08         606\n",
      "140  1960-09         508\n",
      "141  1960-10         461\n",
      "142  1960-11         390\n",
      "143  1960-12         432\n",
      "\n",
      "[144 rows x 2 columns]\n"
     ]
    }
   ],
   "source": [
    "import pyarrow.feather as feather\n",
    "\n",
    "airPassengerDF = feather.read_feather('datasets\\\\air_passengers.feather')\n",
    "print(airPassengerDF)"
   ]
  }
 ],
 "metadata": {
  "kernelspec": {
   "display_name": "Python 3 (ipykernel)",
   "language": "python",
   "name": "python3"
  },
  "language_info": {
   "codemirror_mode": {
    "name": "ipython",
    "version": 3
   },
   "file_extension": ".py",
   "mimetype": "text/x-python",
   "name": "python",
   "nbconvert_exporter": "python",
   "pygments_lexer": "ipython3",
   "version": "3.10.2"
  }
 },
 "nbformat": 4,
 "nbformat_minor": 5
}
